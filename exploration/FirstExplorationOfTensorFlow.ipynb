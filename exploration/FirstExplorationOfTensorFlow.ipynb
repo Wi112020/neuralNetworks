{
 "cells": [
  {
   "cell_type": "markdown",
   "metadata": {},
   "source": [
    "# Introduction"
   ]
  },
  {
   "cell_type": "markdown",
   "metadata": {},
   "source": [
    "* This file is to explore tensor flow"
   ]
  },
  {
   "cell_type": "code",
   "execution_count": 1,
   "metadata": {},
   "outputs": [],
   "source": [
    "#Import some useful things\n",
    "#numpy is numerical useful things\n",
    "import numpy as np\n",
    "#grab tensorflow\n",
    "import tensorflow as ts"
   ]
  },
  {
   "cell_type": "code",
   "execution_count": 9,
   "metadata": {},
   "outputs": [],
   "source": [
    "# Need matplotlib to plot\n",
    "import matplotlib.pyplot as plt"
   ]
  },
  {
   "cell_type": "code",
   "execution_count": 10,
   "metadata": {},
   "outputs": [],
   "source": [
    "# Need to tell matplotlib to show plots here, and not save them in a file\n",
    "%matplotlib inline"
   ]
  },
  {
   "cell_type": "markdown",
   "metadata": {},
   "source": [
    "# Try the sine function\n",
    "We are going to try to use a neural network to model [0, 1] -> [0, 1] via $\\sin(2\\pi \\cdot x)$"
   ]
  },
  {
   "cell_type": "code",
   "execution_count": 8,
   "metadata": {},
   "outputs": [
    {
     "data": {
      "text/plain": [
       "array([ 0.00000000e+00,  6.27905195e-02,  1.25333234e-01,  1.87381315e-01,\n",
       "        2.48689887e-01,  3.09016994e-01,  3.68124553e-01,  4.25779292e-01,\n",
       "        4.81753674e-01,  5.35826795e-01,  5.87785252e-01,  6.37423990e-01,\n",
       "        6.84547106e-01,  7.28968627e-01,  7.70513243e-01,  8.09016994e-01,\n",
       "        8.44327926e-01,  8.76306680e-01,  9.04827052e-01,  9.29776486e-01,\n",
       "        9.51056516e-01,  9.68583161e-01,  9.82287251e-01,  9.92114701e-01,\n",
       "        9.98026728e-01,  1.00000000e+00,  9.98026728e-01,  9.92114701e-01,\n",
       "        9.82287251e-01,  9.68583161e-01,  9.51056516e-01,  9.29776486e-01,\n",
       "        9.04827052e-01,  8.76306680e-01,  8.44327926e-01,  8.09016994e-01,\n",
       "        7.70513243e-01,  7.28968627e-01,  6.84547106e-01,  6.37423990e-01,\n",
       "        5.87785252e-01,  5.35826795e-01,  4.81753674e-01,  4.25779292e-01,\n",
       "        3.68124553e-01,  3.09016994e-01,  2.48689887e-01,  1.87381315e-01,\n",
       "        1.25333234e-01,  6.27905195e-02,  1.22464680e-16, -6.27905195e-02,\n",
       "       -1.25333234e-01, -1.87381315e-01, -2.48689887e-01, -3.09016994e-01,\n",
       "       -3.68124553e-01, -4.25779292e-01, -4.81753674e-01, -5.35826795e-01,\n",
       "       -5.87785252e-01, -6.37423990e-01, -6.84547106e-01, -7.28968627e-01,\n",
       "       -7.70513243e-01, -8.09016994e-01, -8.44327926e-01, -8.76306680e-01,\n",
       "       -9.04827052e-01, -9.29776486e-01, -9.51056516e-01, -9.68583161e-01,\n",
       "       -9.82287251e-01, -9.92114701e-01, -9.98026728e-01, -1.00000000e+00,\n",
       "       -9.98026728e-01, -9.92114701e-01, -9.82287251e-01, -9.68583161e-01,\n",
       "       -9.51056516e-01, -9.29776486e-01, -9.04827052e-01, -8.76306680e-01,\n",
       "       -8.44327926e-01, -8.09016994e-01, -7.70513243e-01, -7.28968627e-01,\n",
       "       -6.84547106e-01, -6.37423990e-01, -5.87785252e-01, -5.35826795e-01,\n",
       "       -4.81753674e-01, -4.25779292e-01, -3.68124553e-01, -3.09016994e-01,\n",
       "       -2.48689887e-01, -1.87381315e-01, -1.25333234e-01, -6.27905195e-02,\n",
       "       -2.44929360e-16])"
      ]
     },
     "execution_count": 8,
     "metadata": {},
     "output_type": "execute_result"
    }
   ],
   "source": [
    "x = np.array(range(101)) / 100\n",
    "y = np.sin(2*np.pi* x)\n",
    "y"
   ]
  },
  {
   "cell_type": "code",
   "execution_count": 12,
   "metadata": {},
   "outputs": [
    {
     "data": {
      "image/png": "[encoded data removed]",
      "text/plain": [
       "<Figure size 432x288 with 1 Axes>"
      ]
     },
     "metadata": {
      "needs_background": "light"
     },
     "output_type": "display_data"
    }
   ],
   "source": [
    "plt.scatter(x,y)\n",
    "plt.show()"
   ]
  },
  {
   "cell_type": "code",
   "execution_count": null,
   "metadata": {},
   "outputs": [],
   "source": []
  }
 ],
 "metadata": {
  "kernelspec": {
   "display_name": "Python 3",
   "language": "python",
   "name": "python3"
  },
  "language_info": {
   "codemirror_mode": {
    "name": "ipython",
    "version": 3
   },
   "file_extension": ".py",
   "mimetype": "text/x-python",
   "name": "python",
   "nbconvert_exporter": "python",
   "pygments_lexer": "ipython3",
   "version": "3.7.3"
  },
  "toc": {
   "base_numbering": 1,
   "nav_menu": {},
   "number_sections": true,
   "sideBar": true,
   "skip_h1_title": false,
   "title_cell": "Table of Contents",
   "title_sidebar": "Contents",
   "toc_cell": false,
   "toc_position": {},
   "toc_section_display": true,
   "toc_window_display": false
  }
 },
 "nbformat": 4,
 "nbformat_minor": 2
}
